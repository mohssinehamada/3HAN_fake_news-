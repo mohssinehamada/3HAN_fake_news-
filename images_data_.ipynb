{
  "nbformat": 4,
  "nbformat_minor": 0,
  "metadata": {
    "colab": {
      "provenance": [],
      "gpuType": "T4"
    },
    "kernelspec": {
      "name": "python3",
      "display_name": "Python 3"
    },
    "language_info": {
      "name": "python"
    },
    "accelerator": "GPU"
  },
  "cells": [
    {
      "cell_type": "code",
      "execution_count": null,
      "metadata": {
        "id": "RmVjtazY9RL-"
      },
      "outputs": [],
      "source": [
        "# Import statements\n",
        "import numpy as np # linear algebra\n",
        "import pandas as pd # data processing, CSV file I/O (e.g. pd.read_csv)\n",
        "\n",
        "import os\n",
        "import urllib.request # to import images from dataset\n",
        "import sys\n",
        "\n",
        "from sklearn.model_selection import train_test_split\n"
      ]
    },
    {
      "cell_type": "code",
      "source": [
        "# Import Neural Network and PyTorch Libraries\n",
        "import torch\n",
        "import torch.nn as nn\n",
        "from torch.utils.data import Dataset, DataLoader\n",
        "import torch.nn.functional as f\n",
        "import torch.optim as optim\n",
        "\n",
        "import torchvision\n",
        "from torchvision.transforms import v2\n",
        "from torchvision import models\n",
        "from torchvision.models import resnet50, ResNet50_Weights\n",
        "import torch.optim.lr_scheduler as lr_scheduler\n",
        "\n",
        "import random\n",
        "from PIL import Image\n",
        "import matplotlib.pyplot as plt\n"
      ],
      "metadata": {
        "id": "D2QgP2Z19Y7Z"
      },
      "execution_count": null,
      "outputs": []
    },
    {
      "cell_type": "code",
      "source": [
        "!pip install kaggle"
      ],
      "metadata": {
        "colab": {
          "base_uri": "https://localhost:8080/"
        },
        "id": "4lfSyAsy9aRe",
        "outputId": "d636e514-8f47-4df4-b4f9-2115b9b9aae4"
      },
      "execution_count": null,
      "outputs": [
        {
          "output_type": "stream",
          "name": "stdout",
          "text": [
            "Requirement already satisfied: kaggle in /usr/local/lib/python3.11/dist-packages (1.6.17)\n",
            "Requirement already satisfied: six>=1.10 in /usr/local/lib/python3.11/dist-packages (from kaggle) (1.17.0)\n",
            "Requirement already satisfied: certifi>=2023.7.22 in /usr/local/lib/python3.11/dist-packages (from kaggle) (2025.1.31)\n",
            "Requirement already satisfied: python-dateutil in /usr/local/lib/python3.11/dist-packages (from kaggle) (2.8.2)\n",
            "Requirement already satisfied: requests in /usr/local/lib/python3.11/dist-packages (from kaggle) (2.32.3)\n",
            "Requirement already satisfied: tqdm in /usr/local/lib/python3.11/dist-packages (from kaggle) (4.67.1)\n",
            "Requirement already satisfied: python-slugify in /usr/local/lib/python3.11/dist-packages (from kaggle) (8.0.4)\n",
            "Requirement already satisfied: urllib3 in /usr/local/lib/python3.11/dist-packages (from kaggle) (2.3.0)\n",
            "Requirement already satisfied: bleach in /usr/local/lib/python3.11/dist-packages (from kaggle) (6.2.0)\n",
            "Requirement already satisfied: webencodings in /usr/local/lib/python3.11/dist-packages (from bleach->kaggle) (0.5.1)\n",
            "Requirement already satisfied: text-unidecode>=1.3 in /usr/local/lib/python3.11/dist-packages (from python-slugify->kaggle) (1.3)\n",
            "Requirement already satisfied: charset-normalizer<4,>=2 in /usr/local/lib/python3.11/dist-packages (from requests->kaggle) (3.4.1)\n",
            "Requirement already satisfied: idna<4,>=2.5 in /usr/local/lib/python3.11/dist-packages (from requests->kaggle) (3.10)\n"
          ]
        }
      ]
    },
    {
      "cell_type": "code",
      "source": [
        "from google.colab import files\n",
        "from google.colab import drive\n",
        "#files.upload()"
      ],
      "metadata": {
        "id": "30sMee909g9R"
      },
      "execution_count": null,
      "outputs": []
    },
    {
      "cell_type": "code",
      "source": [
        "!mdkir -p ~/.kaggle\n",
        "!cp kaggle.json ~/.kaggle/\n",
        "!chmod 600 ~/.kaggle/kaggle.json"
      ],
      "metadata": {
        "colab": {
          "base_uri": "https://localhost:8080/"
        },
        "id": "mz-KuAVG9mjN",
        "outputId": "ae5a040e-149d-4651-e153-f64d1f4a5da5"
      },
      "execution_count": null,
      "outputs": [
        {
          "output_type": "stream",
          "name": "stdout",
          "text": [
            "/bin/bash: line 1: mdkir: command not found\n",
            "cp: cannot stat 'kaggle.json': No such file or directory\n",
            "chmod: cannot access '/root/.kaggle/kaggle.json': No such file or directory\n"
          ]
        }
      ]
    },
    {
      "cell_type": "code",
      "source": [
        "if torch.cuda.is_available():\n",
        "    device = torch.device('cuda')\n",
        "    print(\"CUDA is available. Using GPU.\")\n",
        "else:\n",
        "    device = torch.device('cpu')\n",
        "    print(\"CUDA is not available. Using CPU.\")\n"
      ],
      "metadata": {
        "colab": {
          "base_uri": "https://localhost:8080/"
        },
        "id": "YyChPSak9rHO",
        "outputId": "2d173407-4898-41c7-dd0e-dae5a250911b"
      },
      "execution_count": null,
      "outputs": [
        {
          "output_type": "stream",
          "name": "stdout",
          "text": [
            "CUDA is available. Using GPU.\n"
          ]
        }
      ]
    },
    {
      "cell_type": "code",
      "source": [
        "from google.colab import drive\n",
        "drive.mount('/content/drive')"
      ],
      "metadata": {
        "id": "sALz6yguNqgS",
        "colab": {
          "base_uri": "https://localhost:8080/"
        },
        "outputId": "a1064b80-bc5f-4efb-d962-d570b935e275"
      },
      "execution_count": null,
      "outputs": [
        {
          "output_type": "stream",
          "name": "stdout",
          "text": [
            "Drive already mounted at /content/drive; to attempt to forcibly remount, call drive.mount(\"/content/drive\", force_remount=True).\n"
          ]
        }
      ]
    },
    {
      "cell_type": "code",
      "source": [
        "drive.mount(\"/content/drive\")"
      ],
      "metadata": {
        "colab": {
          "base_uri": "https://localhost:8080/"
        },
        "id": "NHnSn0qR-NH8",
        "outputId": "caeb9a2a-5656-4550-94e7-fc4305377243"
      },
      "execution_count": null,
      "outputs": [
        {
          "output_type": "stream",
          "name": "stdout",
          "text": [
            "Drive already mounted at /content/drive; to attempt to forcibly remount, call drive.mount(\"/content/drive\", force_remount=True).\n"
          ]
        }
      ]
    },
    {
      "cell_type": "code",
      "source": [
        "!kaggle datasets download -d vanshikavmittal/fakeddit-dataset"
      ],
      "metadata": {
        "id": "vnAA6l0l94-X",
        "colab": {
          "base_uri": "https://localhost:8080/"
        },
        "outputId": "7626eec5-b20c-4432-8e4e-37e628c1e21e"
      },
      "execution_count": null,
      "outputs": [
        {
          "output_type": "stream",
          "name": "stdout",
          "text": [
            "Warning: Looks like you're using an outdated API Version, please consider updating (server 1.7.4.2 / client 1.6.17)\n",
            "Dataset URL: https://www.kaggle.com/datasets/vanshikavmittal/fakeddit-dataset\n",
            "License(s): unknown\n",
            "Downloading fakeddit-dataset.zip to /content\n",
            " 95% 69.0M/72.8M [00:01<00:00, 70.4MB/s]\n",
            "100% 72.8M/72.8M [00:01<00:00, 57.8MB/s]\n"
          ]
        }
      ]
    },
    {
      "cell_type": "code",
      "source": [],
      "metadata": {
        "id": "6fq3UpjkQ4Gq"
      },
      "execution_count": null,
      "outputs": []
    },
    {
      "cell_type": "code",
      "source": [
        "!unzip /content/fakeddit-dataset.zip -d /content/fakeddit-dataset"
      ],
      "metadata": {
        "id": "P5g6rkuB97Fb",
        "colab": {
          "base_uri": "https://localhost:8080/"
        },
        "outputId": "0eb69af7-7396-4186-b385-e59099a9fecd"
      },
      "execution_count": null,
      "outputs": [
        {
          "output_type": "stream",
          "name": "stdout",
          "text": [
            "Archive:  /content/fakeddit-dataset.zip\n",
            "  inflating: /content/fakeddit-dataset/multimodal_only_samples/multimodal_test_public.tsv  \n",
            "  inflating: /content/fakeddit-dataset/multimodal_only_samples/multimodal_train.tsv  \n",
            "  inflating: /content/fakeddit-dataset/multimodal_only_samples/multimodal_validate.tsv  \n"
          ]
        }
      ]
    },
    {
      "cell_type": "code",
      "source": [
        "import os\n",
        "dataset_path = \"/content/fakeddit-dataset/multimodal_only_samples\"\n",
        "print(\"Path to dataset files:\" , os.listdir(dataset_path))"
      ],
      "metadata": {
        "id": "OROFpyYD9zDO",
        "colab": {
          "base_uri": "https://localhost:8080/"
        },
        "outputId": "85fd4c6d-11bd-46eb-eb45-3aa4fa131728"
      },
      "execution_count": null,
      "outputs": [
        {
          "output_type": "stream",
          "name": "stdout",
          "text": [
            "Path to dataset files: ['multimodal_train.tsv', 'multimodal_test_public.tsv', 'multimodal_validate.tsv']\n"
          ]
        }
      ]
    },
    {
      "cell_type": "code",
      "source": [
        "import glob\n",
        "tsv_files = glob.glob(os.path.join(dataset_path, \"*.tsv\"))\n",
        "print(\"Number of tsv files:\" , len(tsv_files))"
      ],
      "metadata": {
        "id": "d5py6I25-a8m",
        "colab": {
          "base_uri": "https://localhost:8080/"
        },
        "outputId": "27c3d644-0c27-4c19-886a-ce65293ff177"
      },
      "execution_count": null,
      "outputs": [
        {
          "output_type": "stream",
          "name": "stdout",
          "text": [
            "Number of tsv files: 3\n"
          ]
        }
      ]
    },
    {
      "cell_type": "code",
      "source": [
        "df = pd.read_csv('/content/fakeddit-dataset/multimodal_only_samples/multimodal_train.tsv', sep='\\t')\n"
      ],
      "metadata": {
        "id": "XpG4oaR89u7B"
      },
      "execution_count": null,
      "outputs": []
    },
    {
      "cell_type": "code",
      "source": [
        "df.shape"
      ],
      "metadata": {
        "id": "JoYwj-i0HfVh",
        "colab": {
          "base_uri": "https://localhost:8080/"
        },
        "outputId": "6a598368-ed8e-4702-c20c-b333caabcb04"
      },
      "execution_count": null,
      "outputs": [
        {
          "output_type": "execute_result",
          "data": {
            "text/plain": [
              "(564000, 16)"
            ]
          },
          "metadata": {},
          "execution_count": 14
        }
      ]
    },
    {
      "cell_type": "code",
      "source": [
        "df, _ = train_test_split(\n",
        "    df,\n",
        "    test_size=0.97,\n",
        "    shuffle=True,\n",
        "    stratify=df[\"6_way_label\"],\n",
        "    random_state=42,\n",
        ")"
      ],
      "metadata": {
        "id": "zRLVwIZ5HhOZ"
      },
      "execution_count": null,
      "outputs": []
    },
    {
      "cell_type": "code",
      "source": [
        "df.shape"
      ],
      "metadata": {
        "id": "83w4YlyaHy1o",
        "colab": {
          "base_uri": "https://localhost:8080/"
        },
        "outputId": "69ae7fc6-361a-4ff5-db2f-080e3a4c0b90"
      },
      "execution_count": null,
      "outputs": [
        {
          "output_type": "execute_result",
          "data": {
            "text/plain": [
              "(16920, 16)"
            ]
          },
          "metadata": {},
          "execution_count": 16
        }
      ]
    },
    {
      "cell_type": "code",
      "source": [
        "df.reset_index(drop=True, inplace=True)"
      ],
      "metadata": {
        "id": "N-mmzg5nH6IZ"
      },
      "execution_count": null,
      "outputs": []
    },
    {
      "cell_type": "code",
      "source": [
        "print(\"clean_title:\", df[\"clean_title\"].isnull().sum())\n",
        "print(\"has_image:\", df[\"hasImage\"].isnull().sum())\n",
        "print(\"id:\", df[\"id\"].isnull().sum())\n",
        "\n",
        "# Check how many rows with the column \"hasImage\" is false\n",
        "print(\"\\n\", df[\"hasImage\"].value_counts())"
      ],
      "metadata": {
        "id": "inw5GleWH-My",
        "colab": {
          "base_uri": "https://localhost:8080/"
        },
        "outputId": "84723eb3-3f3a-4e70-fa3c-a54e7f94b786"
      },
      "execution_count": null,
      "outputs": [
        {
          "output_type": "stream",
          "name": "stdout",
          "text": [
            "clean_title: 0\n",
            "has_image: 0\n",
            "id: 0\n",
            "\n",
            " hasImage\n",
            "True    16920\n",
            "Name: count, dtype: int64\n"
          ]
        }
      ]
    },
    {
      "cell_type": "code",
      "source": [
        "df[\"6_way_label\"].plot(kind=\"hist\", bins = 15, title = \"6_way_label\")"
      ],
      "metadata": {
        "id": "V1tgoTLZIFYL",
        "colab": {
          "base_uri": "https://localhost:8080/",
          "height": 469
        },
        "outputId": "0ff02bb1-7ae6-458a-c7b9-877fe8cce34d"
      },
      "execution_count": null,
      "outputs": [
        {
          "output_type": "execute_result",
          "data": {
            "text/plain": [
              "<Axes: title={'center': '6_way_label'}, ylabel='Frequency'>"
            ]
          },
          "metadata": {},
          "execution_count": 19
        },
        {
          "output_type": "display_data",
          "data": {
            "text/plain": [
              "<Figure size 640x480 with 1 Axes>"
            ],
            "image/png": "[encoded data removed]"
          },
          "metadata": {}
        }
      ]
    },
    {
      "cell_type": "code",
      "source": [
        "import os\n",
        "import numpy as np\n",
        "from urllib import request\n",
        "from concurrent.futures import ThreadPoolExecutor , as_completed"
      ],
      "metadata": {
        "id": "t8Hk2zCSIiT7"
      },
      "execution_count": null,
      "outputs": []
    },
    {
      "cell_type": "code",
      "source": [
        "df = df.replace(np.nan, '', regex=True)\n",
        "df.fillna(\"\",inplace = True)"
      ],
      "metadata": {
        "id": "aLUXD3j9JGlb"
      },
      "execution_count": null,
      "outputs": []
    },
    {
      "cell_type": "code",
      "source": [
        "image_dir = \"/content/Images\"\n",
        "if not os.path.exists(image_dir):\n",
        "    os.makedirs(image_dir,exist_ok=True)"
      ],
      "metadata": {
        "id": "tam-c83PJTRi"
      },
      "execution_count": null,
      "outputs": []
    },
    {
      "cell_type": "code",
      "source": [
        "# Get a list of all image file paths (adjust file extensions if needed)\n",
        "all_images_files = [\n",
        "    os.path.join(image_dir, f)\n",
        "    for f in os.listdir(image_dir)\n",
        "    if f.lower().endswith((\",jpg\",\"jpeg\",\".png\"))\n",
        "    ]\n",
        "print(\"Total images available:\", len(all_images_files))"
      ],
      "metadata": {
        "id": "wYz2dX7LMLyY",
        "colab": {
          "base_uri": "https://localhost:8080/"
        },
        "outputId": "a1065c55-6cee-40f8-f5a2-6bc8a4870f81"
      },
      "execution_count": null,
      "outputs": [
        {
          "output_type": "stream",
          "name": "stdout",
          "text": [
            "Total images available: 0\n"
          ]
        }
      ]
    },
    {
      "cell_type": "code",
      "source": [
        "subset_size = 10000"
      ],
      "metadata": {
        "id": "icuxamECM7hS"
      },
      "execution_count": null,
      "outputs": []
    },
    {
      "cell_type": "code",
      "source": [
        "df"
      ],
      "metadata": {
        "colab": {
          "base_uri": "https://localhost:8080/",
          "height": 999
        },
        "id": "RlQFMVdlURfh",
        "outputId": "fc8ef85a-92a6-4d20-d3f5-9967562dd189"
      },
      "execution_count": null,
      "outputs": [
        {
          "output_type": "execute_result",
          "data": {
            "text/plain": [
              "                    author                                        clean_title  \\\n",
              "0                   Vranak  president assad expresses appreciation towards...   \n",
              "1              monkeypowah  uk policeman asks for names and addresses of p...   \n",
              "2                 Relandis  flypocalypse dad swatted these flies in the ki...   \n",
              "3                    dwaxe    life times pixar movies made us cry like babies   \n",
              "4               SowerPlave                                  stay classy tiger   \n",
              "...                    ...                                                ...   \n",
              "16915            piedmont6  after transplant saves her son mom returns the...   \n",
              "16916              Pooch76                                     dog in a field   \n",
              "16917  SomeGuyInNewZealand  police escort surgeon through auckland rush ho...   \n",
              "16918              SiON42X  garth brooks gives unexpected answer to trump ...   \n",
              "16919           gordiarama                          the colors of these shoes   \n",
              "\n",
              "        created_utc           domain  hasImage       id  \\\n",
              "0      1.388330e+09          cnn.com      True   1txzm9   \n",
              "1      1.423516e+09  theguardian.com      True   2vcb92   \n",
              "2      1.564338e+09        i.redd.it      True   ciz7vl   \n",
              "3      1.470069e+09    clickhole.com      True   4vnbj9   \n",
              "4      1.378134e+09                       True  cc084wv   \n",
              "...             ...              ...       ...      ...   \n",
              "16915  1.405109e+09       newser.com      True   2agd8x   \n",
              "16916  1.503420e+09        i.redd.it      True   6vc7fu   \n",
              "16917  1.502103e+09      stuff.co.nz      True   6s4rmk   \n",
              "16918  1.484687e+09       archive.is      True   5okrm9   \n",
              "16919  1.566705e+09        i.redd.it      True   cv3tax   \n",
              "\n",
              "                                               image_url linked_submission_id  \\\n",
              "0      https://external-preview.redd.it/k3pMa3DrphExz...                        \n",
              "1      https://external-preview.redd.it/72WISwugE1C3P...                        \n",
              "2      https://preview.redd.it/v6t5ktde53d31.jpg?widt...                        \n",
              "3      https://external-preview.redd.it/LNyLFwFIi6Knk...                        \n",
              "4                         http://i.imgur.com/IqgTf87.jpg               1lkj8g   \n",
              "...                                                  ...                  ...   \n",
              "16915  https://external-preview.redd.it/BRsICYmjMl0FE...                        \n",
              "16916  https://preview.redd.it/qqari2mtgbhz.jpg?width...                        \n",
              "16917  https://external-preview.redd.it/XZzRiIuvTT1xu...                        \n",
              "16918  https://external-preview.redd.it/auG2N6WhVRaFa...                        \n",
              "16919  https://preview.redd.it/hbx6sus1qii31.jpg?widt...                        \n",
              "\n",
              "      num_comments  score          subreddit  \\\n",
              "0              2.0     13      upliftingnews   \n",
              "1              1.0     27        nottheonion   \n",
              "2              3.0      4  mildlyinteresting   \n",
              "3              0.0      5           theonion   \n",
              "4                       6   psbattle_artwork   \n",
              "...            ...    ...                ...   \n",
              "16915          0.0     14      upliftingnews   \n",
              "16916          4.0      3   photoshopbattles   \n",
              "16917          0.0     16      upliftingnews   \n",
              "16918          7.0    104     savedyouaclick   \n",
              "16919          4.0      5  mildlyinteresting   \n",
              "\n",
              "                                                   title upvote_ratio  \\\n",
              "0      President Assad expresses appreciation towards...         0.82   \n",
              "1      UK policeman asks for names and addresses of p...         0.88   \n",
              "2      Flypocalypse - Dad swatted these flies in the ...         0.63   \n",
              "3      Life: 9 Times Pixar Movies Made Us Cry Like Ba...         0.67   \n",
              "4                                    Stay classy, Tiger!                \n",
              "...                                                  ...          ...   \n",
              "16915  After Transplant Saves Her Son, Mom Returns th...         0.84   \n",
              "16916                           PsBattle: Dog in a field          1.0   \n",
              "16917  Police escort surgeon through Auckland rush ho...         0.85   \n",
              "16918  Garth Brooks Gives Unexpected Answer To Trump ...         0.89   \n",
              "16919                          The colors of these shoes          0.6   \n",
              "\n",
              "       2_way_label  3_way_label  6_way_label  \n",
              "0                1            0            0  \n",
              "1                1            0            0  \n",
              "2                1            0            0  \n",
              "3                0            2            1  \n",
              "4                0            2            4  \n",
              "...            ...          ...          ...  \n",
              "16915            1            0            0  \n",
              "16916            1            0            0  \n",
              "16917            1            0            0  \n",
              "16918            0            2            5  \n",
              "16919            1            0            0  \n",
              "\n",
              "[16920 rows x 16 columns]"
            ],
            "text/html": [
              "\n",
              "  <div id=\"df-2316a4c9-31ae-4f1c-9abc-718848e85de1\" class=\"colab-df-container\">\n",
              "    <div>\n",
              "<style scoped>\n",
              "    .dataframe tbody tr th:only-of-type {\n",
              "        vertical-align: middle;\n",
              "    }\n",
              "\n",
              "    .dataframe tbody tr th {\n",
              "        vertical-align: top;\n",
              "    }\n",
              "\n",
              "    .dataframe thead th {\n",
              "        text-align: right;\n",
              "    }\n",
              "</style>\n",
              "<table border=\"1\" class=\"dataframe\">\n",
              "  <thead>\n",
              "    <tr style=\"text-align: right;\">\n",
              "      <th></th>\n",
              "      <th>author</th>\n",
              "      <th>clean_title</th>\n",
              "      <th>created_utc</th>\n",
              "      <th>domain</th>\n",
              "      <th>hasImage</th>\n",
              "      <th>id</th>\n",
              "      <th>image_url</th>\n",
              "      <th>linked_submission_id</th>\n",
              "      <th>num_comments</th>\n",
              "      <th>score</th>\n",
              "      <th>subreddit</th>\n",
              "      <th>title</th>\n",
              "      <th>upvote_ratio</th>\n",
              "      <th>2_way_label</th>\n",
              "      <th>3_way_label</th>\n",
              "      <th>6_way_label</th>\n",
              "    </tr>\n",
              "  </thead>\n",
              "  <tbody>\n",
              "    <tr>\n",
              "      <th>0</th>\n",
              "      <td>Vranak</td>\n",
              "      <td>president assad expresses appreciation towards...</td>\n",
              "      <td>1.388330e+09</td>\n",
              "      <td>cnn.com</td>\n",
              "      <td>True</td>\n",
              "      <td>1txzm9</td>\n",
              "      <td>https://external-preview.redd.it/k3pMa3DrphExz...</td>\n",
              "      <td></td>\n",
              "      <td>2.0</td>\n",
              "      <td>13</td>\n",
              "      <td>upliftingnews</td>\n",
              "      <td>President Assad expresses appreciation towards...</td>\n",
              "      <td>0.82</td>\n",
              "      <td>1</td>\n",
              "      <td>0</td>\n",
              "      <td>0</td>\n",
              "    </tr>\n",
              "    <tr>\n",
              "      <th>1</th>\n",
              "      <td>monkeypowah</td>\n",
              "      <td>uk policeman asks for names and addresses of p...</td>\n",
              "      <td>1.423516e+09</td>\n",
              "      <td>theguardian.com</td>\n",
              "      <td>True</td>\n",
              "      <td>2vcb92</td>\n",
              "      <td>https://external-preview.redd.it/72WISwugE1C3P...</td>\n",
              "      <td></td>\n",
              "      <td>1.0</td>\n",
              "      <td>27</td>\n",
              "      <td>nottheonion</td>\n",
              "      <td>UK policeman asks for names and addresses of p...</td>\n",
              "      <td>0.88</td>\n",
              "      <td>1</td>\n",
              "      <td>0</td>\n",
              "      <td>0</td>\n",
              "    </tr>\n",
              "    <tr>\n",
              "      <th>2</th>\n",
              "      <td>Relandis</td>\n",
              "      <td>flypocalypse dad swatted these flies in the ki...</td>\n",
              "      <td>1.564338e+09</td>\n",
              "      <td>i.redd.it</td>\n",
              "      <td>True</td>\n",
              "      <td>ciz7vl</td>\n",
              "      <td>https://preview.redd.it/v6t5ktde53d31.jpg?widt...</td>\n",
              "      <td></td>\n",
              "      <td>3.0</td>\n",
              "      <td>4</td>\n",
              "      <td>mildlyinteresting</td>\n",
              "      <td>Flypocalypse - Dad swatted these flies in the ...</td>\n",
              "      <td>0.63</td>\n",
              "      <td>1</td>\n",
              "      <td>0</td>\n",
              "      <td>0</td>\n",
              "    </tr>\n",
              "    <tr>\n",
              "      <th>3</th>\n",
              "      <td>dwaxe</td>\n",
              "      <td>life times pixar movies made us cry like babies</td>\n",
              "      <td>1.470069e+09</td>\n",
              "      <td>clickhole.com</td>\n",
              "      <td>True</td>\n",
              "      <td>4vnbj9</td>\n",
              "      <td>https://external-preview.redd.it/LNyLFwFIi6Knk...</td>\n",
              "      <td></td>\n",
              "      <td>0.0</td>\n",
              "      <td>5</td>\n",
              "      <td>theonion</td>\n",
              "      <td>Life: 9 Times Pixar Movies Made Us Cry Like Ba...</td>\n",
              "      <td>0.67</td>\n",
              "      <td>0</td>\n",
              "      <td>2</td>\n",
              "      <td>1</td>\n",
              "    </tr>\n",
              "    <tr>\n",
              "      <th>4</th>\n",
              "      <td>SowerPlave</td>\n",
              "      <td>stay classy tiger</td>\n",
              "      <td>1.378134e+09</td>\n",
              "      <td></td>\n",
              "      <td>True</td>\n",
              "      <td>cc084wv</td>\n",
              "      <td>http://i.imgur.com/IqgTf87.jpg</td>\n",
              "      <td>1lkj8g</td>\n",
              "      <td></td>\n",
              "      <td>6</td>\n",
              "      <td>psbattle_artwork</td>\n",
              "      <td>Stay classy, Tiger!</td>\n",
              "      <td></td>\n",
              "      <td>0</td>\n",
              "      <td>2</td>\n",
              "      <td>4</td>\n",
              "    </tr>\n",
              "    <tr>\n",
              "      <th>...</th>\n",
              "      <td>...</td>\n",
              "      <td>...</td>\n",
              "      <td>...</td>\n",
              "      <td>...</td>\n",
              "      <td>...</td>\n",
              "      <td>...</td>\n",
              "      <td>...</td>\n",
              "      <td>...</td>\n",
              "      <td>...</td>\n",
              "      <td>...</td>\n",
              "      <td>...</td>\n",
              "      <td>...</td>\n",
              "      <td>...</td>\n",
              "      <td>...</td>\n",
              "      <td>...</td>\n",
              "      <td>...</td>\n",
              "    </tr>\n",
              "    <tr>\n",
              "      <th>16915</th>\n",
              "      <td>piedmont6</td>\n",
              "      <td>after transplant saves her son mom returns the...</td>\n",
              "      <td>1.405109e+09</td>\n",
              "      <td>newser.com</td>\n",
              "      <td>True</td>\n",
              "      <td>2agd8x</td>\n",
              "      <td>https://external-preview.redd.it/BRsICYmjMl0FE...</td>\n",
              "      <td></td>\n",
              "      <td>0.0</td>\n",
              "      <td>14</td>\n",
              "      <td>upliftingnews</td>\n",
              "      <td>After Transplant Saves Her Son, Mom Returns th...</td>\n",
              "      <td>0.84</td>\n",
              "      <td>1</td>\n",
              "      <td>0</td>\n",
              "      <td>0</td>\n",
              "    </tr>\n",
              "    <tr>\n",
              "      <th>16916</th>\n",
              "      <td>Pooch76</td>\n",
              "      <td>dog in a field</td>\n",
              "      <td>1.503420e+09</td>\n",
              "      <td>i.redd.it</td>\n",
              "      <td>True</td>\n",
              "      <td>6vc7fu</td>\n",
              "      <td>https://preview.redd.it/qqari2mtgbhz.jpg?width...</td>\n",
              "      <td></td>\n",
              "      <td>4.0</td>\n",
              "      <td>3</td>\n",
              "      <td>photoshopbattles</td>\n",
              "      <td>PsBattle: Dog in a field</td>\n",
              "      <td>1.0</td>\n",
              "      <td>1</td>\n",
              "      <td>0</td>\n",
              "      <td>0</td>\n",
              "    </tr>\n",
              "    <tr>\n",
              "      <th>16917</th>\n",
              "      <td>SomeGuyInNewZealand</td>\n",
              "      <td>police escort surgeon through auckland rush ho...</td>\n",
              "      <td>1.502103e+09</td>\n",
              "      <td>stuff.co.nz</td>\n",
              "      <td>True</td>\n",
              "      <td>6s4rmk</td>\n",
              "      <td>https://external-preview.redd.it/XZzRiIuvTT1xu...</td>\n",
              "      <td></td>\n",
              "      <td>0.0</td>\n",
              "      <td>16</td>\n",
              "      <td>upliftingnews</td>\n",
              "      <td>Police escort surgeon through Auckland rush ho...</td>\n",
              "      <td>0.85</td>\n",
              "      <td>1</td>\n",
              "      <td>0</td>\n",
              "      <td>0</td>\n",
              "    </tr>\n",
              "    <tr>\n",
              "      <th>16918</th>\n",
              "      <td>SiON42X</td>\n",
              "      <td>garth brooks gives unexpected answer to trump ...</td>\n",
              "      <td>1.484687e+09</td>\n",
              "      <td>archive.is</td>\n",
              "      <td>True</td>\n",
              "      <td>5okrm9</td>\n",
              "      <td>https://external-preview.redd.it/auG2N6WhVRaFa...</td>\n",
              "      <td></td>\n",
              "      <td>7.0</td>\n",
              "      <td>104</td>\n",
              "      <td>savedyouaclick</td>\n",
              "      <td>Garth Brooks Gives Unexpected Answer To Trump ...</td>\n",
              "      <td>0.89</td>\n",
              "      <td>0</td>\n",
              "      <td>2</td>\n",
              "      <td>5</td>\n",
              "    </tr>\n",
              "    <tr>\n",
              "      <th>16919</th>\n",
              "      <td>gordiarama</td>\n",
              "      <td>the colors of these shoes</td>\n",
              "      <td>1.566705e+09</td>\n",
              "      <td>i.redd.it</td>\n",
              "      <td>True</td>\n",
              "      <td>cv3tax</td>\n",
              "      <td>https://preview.redd.it/hbx6sus1qii31.jpg?widt...</td>\n",
              "      <td></td>\n",
              "      <td>4.0</td>\n",
              "      <td>5</td>\n",
              "      <td>mildlyinteresting</td>\n",
              "      <td>The colors of these shoes</td>\n",
              "      <td>0.6</td>\n",
              "      <td>1</td>\n",
              "      <td>0</td>\n",
              "      <td>0</td>\n",
              "    </tr>\n",
              "  </tbody>\n",
              "</table>\n",
              "<p>16920 rows × 16 columns</p>\n",
              "</div>\n",
              "    <div class=\"colab-df-buttons\">\n",
              "\n",
              "  <div class=\"colab-df-container\">\n",
              "    <button class=\"colab-df-convert\" onclick=\"convertToInteractive('df-2316a4c9-31ae-4f1c-9abc-718848e85de1')\"\n",
              "            title=\"Convert this dataframe to an interactive table.\"\n",
              "            style=\"display:none;\">\n",
              "\n",
              "  <svg xmlns=\"http://www.w3.org/2000/svg\" height=\"24px\" viewBox=\"0 -960 960 960\">\n",
              "    <path d=\"M120-120v-720h720v720H120Zm60-500h600v-160H180v160Zm220 220h160v-160H400v160Zm0 220h160v-160H400v160ZM180-400h160v-160H180v160Zm440 0h160v-160H620v160ZM180-180h160v-160H180v160Zm440 0h160v-160H620v160Z\"/>\n",
              "  </svg>\n",
              "    </button>\n",
              "\n",
              "  <style>\n",
              "    .colab-df-container {\n",
              "      display:flex;\n",
              "      gap: 12px;\n",
              "    }\n",
              "\n",
              "    .colab-df-convert {\n",
              "      background-color: #E8F0FE;\n",
              "      border: none;\n",
              "      border-radius: 50%;\n",
              "      cursor: pointer;\n",
              "      display: none;\n",
              "      fill: #1967D2;\n",
              "      height: 32px;\n",
              "      padding: 0 0 0 0;\n",
              "      width: 32px;\n",
              "    }\n",
              "\n",
              "    .colab-df-convert:hover {\n",
              "      background-color: #E2EBFA;\n",
              "      box-shadow: 0px 1px 2px rgba(60, 64, 67, 0.3), 0px 1px 3px 1px rgba(60, 64, 67, 0.15);\n",
              "      fill: #174EA6;\n",
              "    }\n",
              "\n",
              "    .colab-df-buttons div {\n",
              "      margin-bottom: 4px;\n",
              "    }\n",
              "\n",
              "    [theme=dark] .colab-df-convert {\n",
              "      background-color: #3B4455;\n",
              "      fill: #D2E3FC;\n",
              "    }\n",
              "\n",
              "    [theme=dark] .colab-df-convert:hover {\n",
              "      background-color: #434B5C;\n",
              "      box-shadow: 0px 1px 3px 1px rgba(0, 0, 0, 0.15);\n",
              "      filter: drop-shadow(0px 1px 2px rgba(0, 0, 0, 0.3));\n",
              "      fill: #FFFFFF;\n",
              "    }\n",
              "  </style>\n",
              "\n",
              "    <script>\n",
              "      const buttonEl =\n",
              "        document.querySelector('#df-2316a4c9-31ae-4f1c-9abc-718848e85de1 button.colab-df-convert');\n",
              "      buttonEl.style.display =\n",
              "        google.colab.kernel.accessAllowed ? 'block' : 'none';\n",
              "\n",
              "      async function convertToInteractive(key) {\n",
              "        const element = document.querySelector('#df-2316a4c9-31ae-4f1c-9abc-718848e85de1');\n",
              "        const dataTable =\n",
              "          await google.colab.kernel.invokeFunction('convertToInteractive',\n",
              "                                                    [key], {});\n",
              "        if (!dataTable) return;\n",
              "\n",
              "        const docLinkHtml = 'Like what you see? Visit the ' +\n",
              "          '<a target=\"_blank\" href=https://colab.research.google.com/notebooks/data_table.ipynb>data table notebook</a>'\n",
              "          + ' to learn more about interactive tables.';\n",
              "        element.innerHTML = '';\n",
              "        dataTable['output_type'] = 'display_data';\n",
              "        await google.colab.output.renderOutput(dataTable, element);\n",
              "        const docLink = document.createElement('div');\n",
              "        docLink.innerHTML = docLinkHtml;\n",
              "        element.appendChild(docLink);\n",
              "      }\n",
              "    </script>\n",
              "  </div>\n",
              "\n",
              "\n",
              "<div id=\"df-2106a3e8-e39d-44da-aae5-012e7286fd7e\">\n",
              "  <button class=\"colab-df-quickchart\" onclick=\"quickchart('df-2106a3e8-e39d-44da-aae5-012e7286fd7e')\"\n",
              "            title=\"Suggest charts\"\n",
              "            style=\"display:none;\">\n",
              "\n",
              "<svg xmlns=\"http://www.w3.org/2000/svg\" height=\"24px\"viewBox=\"0 0 24 24\"\n",
              "     width=\"24px\">\n",
              "    <g>\n",
              "        <path d=\"M19 3H5c-1.1 0-2 .9-2 2v14c0 1.1.9 2 2 2h14c1.1 0 2-.9 2-2V5c0-1.1-.9-2-2-2zM9 17H7v-7h2v7zm4 0h-2V7h2v10zm4 0h-2v-4h2v4z\"/>\n",
              "    </g>\n",
              "</svg>\n",
              "  </button>\n",
              "\n",
              "<style>\n",
              "  .colab-df-quickchart {\n",
              "      --bg-color: #E8F0FE;\n",
              "      --fill-color: #1967D2;\n",
              "      --hover-bg-color: #E2EBFA;\n",
              "      --hover-fill-color: #174EA6;\n",
              "      --disabled-fill-color: #AAA;\n",
              "      --disabled-bg-color: #DDD;\n",
              "  }\n",
              "\n",
              "  [theme=dark] .colab-df-quickchart {\n",
              "      --bg-color: #3B4455;\n",
              "      --fill-color: #D2E3FC;\n",
              "      --hover-bg-color: #434B5C;\n",
              "      --hover-fill-color: #FFFFFF;\n",
              "      --disabled-bg-color: #3B4455;\n",
              "      --disabled-fill-color: #666;\n",
              "  }\n",
              "\n",
              "  .colab-df-quickchart {\n",
              "    background-color: var(--bg-color);\n",
              "    border: none;\n",
              "    border-radius: 50%;\n",
              "    cursor: pointer;\n",
              "    display: none;\n",
              "    fill: var(--fill-color);\n",
              "    height: 32px;\n",
              "    padding: 0;\n",
              "    width: 32px;\n",
              "  }\n",
              "\n",
              "  .colab-df-quickchart:hover {\n",
              "    background-color: var(--hover-bg-color);\n",
              "    box-shadow: 0 1px 2px rgba(60, 64, 67, 0.3), 0 1px 3px 1px rgba(60, 64, 67, 0.15);\n",
              "    fill: var(--button-hover-fill-color);\n",
              "  }\n",
              "\n",
              "  .colab-df-quickchart-complete:disabled,\n",
              "  .colab-df-quickchart-complete:disabled:hover {\n",
              "    background-color: var(--disabled-bg-color);\n",
              "    fill: var(--disabled-fill-color);\n",
              "    box-shadow: none;\n",
              "  }\n",
              "\n",
              "  .colab-df-spinner {\n",
              "    border: 2px solid var(--fill-color);\n",
              "    border-color: transparent;\n",
              "    border-bottom-color: var(--fill-color);\n",
              "    animation:\n",
              "      spin 1s steps(1) infinite;\n",
              "  }\n",
              "\n",
              "  @keyframes spin {\n",
              "    0% {\n",
              "      border-color: transparent;\n",
              "      border-bottom-color: var(--fill-color);\n",
              "      border-left-color: var(--fill-color);\n",
              "    }\n",
              "    20% {\n",
              "      border-color: transparent;\n",
              "      border-left-color: var(--fill-color);\n",
              "      border-top-color: var(--fill-color);\n",
              "    }\n",
              "    30% {\n",
              "      border-color: transparent;\n",
              "      border-left-color: var(--fill-color);\n",
              "      border-top-color: var(--fill-color);\n",
              "      border-right-color: var(--fill-color);\n",
              "    }\n",
              "    40% {\n",
              "      border-color: transparent;\n",
              "      border-right-color: var(--fill-color);\n",
              "      border-top-color: var(--fill-color);\n",
              "    }\n",
              "    60% {\n",
              "      border-color: transparent;\n",
              "      border-right-color: var(--fill-color);\n",
              "    }\n",
              "    80% {\n",
              "      border-color: transparent;\n",
              "      border-right-color: var(--fill-color);\n",
              "      border-bottom-color: var(--fill-color);\n",
              "    }\n",
              "    90% {\n",
              "      border-color: transparent;\n",
              "      border-bottom-color: var(--fill-color);\n",
              "    }\n",
              "  }\n",
              "</style>\n",
              "\n",
              "  <script>\n",
              "    async function quickchart(key) {\n",
              "      const quickchartButtonEl =\n",
              "        document.querySelector('#' + key + ' button');\n",
              "      quickchartButtonEl.disabled = true;  // To prevent multiple clicks.\n",
              "      quickchartButtonEl.classList.add('colab-df-spinner');\n",
              "      try {\n",
              "        const charts = await google.colab.kernel.invokeFunction(\n",
              "            'suggestCharts', [key], {});\n",
              "      } catch (error) {\n",
              "        console.error('Error during call to suggestCharts:', error);\n",
              "      }\n",
              "      quickchartButtonEl.classList.remove('colab-df-spinner');\n",
              "      quickchartButtonEl.classList.add('colab-df-quickchart-complete');\n",
              "    }\n",
              "    (() => {\n",
              "      let quickchartButtonEl =\n",
              "        document.querySelector('#df-2106a3e8-e39d-44da-aae5-012e7286fd7e button');\n",
              "      quickchartButtonEl.style.display =\n",
              "        google.colab.kernel.accessAllowed ? 'block' : 'none';\n",
              "    })();\n",
              "  </script>\n",
              "</div>\n",
              "\n",
              "  <div id=\"id_61d38688-d219-493d-afaf-0d5d67ef4363\">\n",
              "    <style>\n",
              "      .colab-df-generate {\n",
              "        background-color: #E8F0FE;\n",
              "        border: none;\n",
              "        border-radius: 50%;\n",
              "        cursor: pointer;\n",
              "        display: none;\n",
              "        fill: #1967D2;\n",
              "        height: 32px;\n",
              "        padding: 0 0 0 0;\n",
              "        width: 32px;\n",
              "      }\n",
              "\n",
              "      .colab-df-generate:hover {\n",
              "        background-color: #E2EBFA;\n",
              "        box-shadow: 0px 1px 2px rgba(60, 64, 67, 0.3), 0px 1px 3px 1px rgba(60, 64, 67, 0.15);\n",
              "        fill: #174EA6;\n",
              "      }\n",
              "\n",
              "      [theme=dark] .colab-df-generate {\n",
              "        background-color: #3B4455;\n",
              "        fill: #D2E3FC;\n",
              "      }\n",
              "\n",
              "      [theme=dark] .colab-df-generate:hover {\n",
              "        background-color: #434B5C;\n",
              "        box-shadow: 0px 1px 3px 1px rgba(0, 0, 0, 0.15);\n",
              "        filter: drop-shadow(0px 1px 2px rgba(0, 0, 0, 0.3));\n",
              "        fill: #FFFFFF;\n",
              "      }\n",
              "    </style>\n",
              "    <button class=\"colab-df-generate\" onclick=\"generateWithVariable('df')\"\n",
              "            title=\"Generate code using this dataframe.\"\n",
              "            style=\"display:none;\">\n",
              "\n",
              "  <svg xmlns=\"http://www.w3.org/2000/svg\" height=\"24px\"viewBox=\"0 0 24 24\"\n",
              "       width=\"24px\">\n",
              "    <path d=\"M7,19H8.4L18.45,9,17,7.55,7,17.6ZM5,21V16.75L18.45,3.32a2,2,0,0,1,2.83,0l1.4,1.43a1.91,1.91,0,0,1,.58,1.4,1.91,1.91,0,0,1-.58,1.4L9.25,21ZM18.45,9,17,7.55Zm-12,3A5.31,5.31,0,0,0,4.9,8.1,5.31,5.31,0,0,0,1,6.5,5.31,5.31,0,0,0,4.9,4.9,5.31,5.31,0,0,0,6.5,1,5.31,5.31,0,0,0,8.1,4.9,5.31,5.31,0,0,0,12,6.5,5.46,5.46,0,0,0,6.5,12Z\"/>\n",
              "  </svg>\n",
              "    </button>\n",
              "    <script>\n",
              "      (() => {\n",
              "      const buttonEl =\n",
              "        document.querySelector('#id_61d38688-d219-493d-afaf-0d5d67ef4363 button.colab-df-generate');\n",
              "      buttonEl.style.display =\n",
              "        google.colab.kernel.accessAllowed ? 'block' : 'none';\n",
              "\n",
              "      buttonEl.onclick = () => {\n",
              "        google.colab.notebook.generateWithVariable('df');\n",
              "      }\n",
              "      })();\n",
              "    </script>\n",
              "  </div>\n",
              "\n",
              "    </div>\n",
              "  </div>\n"
            ],
            "application/vnd.google.colaboratory.intrinsic+json": {
              "type": "dataframe",
              "variable_name": "df",
              "summary": "{\n  \"name\": \"df\",\n  \"rows\": 16920,\n  \"fields\": [\n    {\n      \"column\": \"author\",\n      \"properties\": {\n        \"dtype\": \"string\",\n        \"num_unique_values\": 12519,\n        \"samples\": [\n          \"kaydas93\",\n          \"howsthat_\",\n          \"PandaKing185\"\n        ],\n        \"semantic_type\": \"\",\n        \"description\": \"\"\n      }\n    },\n    {\n      \"column\": \"clean_title\",\n      \"properties\": {\n        \"dtype\": \"string\",\n        \"num_unique_values\": 16144,\n        \"samples\": [\n          \"american pow gets tortured by his japanese capturers\",\n          \"a skeptical one\",\n          \"parents own a cottage in the town ed sheeran is from this was in a cafe\"\n        ],\n        \"semantic_type\": \"\",\n        \"description\": \"\"\n      }\n    },\n    {\n      \"column\": \"created_utc\",\n      \"properties\": {\n        \"dtype\": \"number\",\n        \"std\": 69665883.53734967,\n        \"min\": 1223699902.0,\n        \"max\": 1571806436.0,\n        \"num_unique_values\": 16919,\n        \"samples\": [\n          1566028706.0,\n          1457467059.0,\n          1520818531.0\n        ],\n        \"semantic_type\": \"\",\n        \"description\": \"\"\n      }\n    },\n    {\n      \"column\": \"domain\",\n      \"properties\": {\n        \"dtype\": \"category\",\n        \"num_unique_values\": 1168,\n        \"samples\": [\n          \"copblock.org\",\n          \"media.npr.org\",\n          \"timesofindia.indiatimes.com\"\n        ],\n        \"semantic_type\": \"\",\n        \"description\": \"\"\n      }\n    },\n    {\n      \"column\": \"hasImage\",\n      \"properties\": {\n        \"dtype\": \"boolean\",\n        \"num_unique_values\": 1,\n        \"samples\": [\n          true\n        ],\n        \"semantic_type\": \"\",\n        \"description\": \"\"\n      }\n    },\n    {\n      \"column\": \"id\",\n      \"properties\": {\n        \"dtype\": \"string\",\n        \"num_unique_values\": 16920,\n        \"samples\": [\n          \"elfsxj7\"\n        ],\n        \"semantic_type\": \"\",\n        \"description\": \"\"\n      }\n    },\n    {\n      \"column\": \"image_url\",\n      \"properties\": {\n        \"dtype\": \"string\",\n        \"num_unique_values\": 16679,\n        \"samples\": [\n          \"http://i.imgur.com/RgMiR.jpg\"\n        ],\n        \"semantic_type\": \"\",\n        \"description\": \"\"\n      }\n    },\n    {\n      \"column\": \"linked_submission_id\",\n      \"properties\": {\n        \"dtype\": \"category\",\n        \"num_unique_values\": 4447,\n        \"samples\": [\n          \"1xebyn\"\n        ],\n        \"semantic_type\": \"\",\n        \"description\": \"\"\n      }\n    },\n    {\n      \"column\": \"num_comments\",\n      \"properties\": {\n        \"dtype\": \"date\",\n        \"min\": \"1970-01-01 00:00:00\",\n        \"max\": \"1970-01-01 00:00:00.000007213\",\n        \"num_unique_values\": 366,\n        \"samples\": [\n          203.0\n        ],\n        \"semantic_type\": \"\",\n        \"description\": \"\"\n      }\n    },\n    {\n      \"column\": \"score\",\n      \"properties\": {\n        \"dtype\": \"number\",\n        \"std\": 2928,\n        \"min\": -131,\n        \"max\": 74977,\n        \"num_unique_values\": 1352,\n        \"samples\": [\n          127\n        ],\n        \"semantic_type\": \"\",\n        \"description\": \"\"\n      }\n    },\n    {\n      \"column\": \"subreddit\",\n      \"properties\": {\n        \"dtype\": \"category\",\n        \"num_unique_values\": 21,\n        \"samples\": [\n          \"upliftingnews\"\n        ],\n        \"semantic_type\": \"\",\n        \"description\": \"\"\n      }\n    },\n    {\n      \"column\": \"title\",\n      \"properties\": {\n        \"dtype\": \"string\",\n        \"num_unique_values\": 16293,\n        \"samples\": [\n          \"AHHHH can't swim\"\n        ],\n        \"semantic_type\": \"\",\n        \"description\": \"\"\n      }\n    },\n    {\n      \"column\": \"upvote_ratio\",\n      \"properties\": {\n        \"dtype\": \"date\",\n        \"min\": \"1970-01-01 00:00:00\",\n        \"max\": \"1970-01-01 00:00:00.000000001\",\n        \"num_unique_values\": 51,\n        \"samples\": [\n          0.56\n        ],\n        \"semantic_type\": \"\",\n        \"description\": \"\"\n      }\n    },\n    {\n      \"column\": \"2_way_label\",\n      \"properties\": {\n        \"dtype\": \"number\",\n        \"std\": 0,\n        \"min\": 0,\n        \"max\": 1,\n        \"num_unique_values\": 2,\n        \"samples\": [\n          0\n        ],\n        \"semantic_type\": \"\",\n        \"description\": \"\"\n      }\n    },\n    {\n      \"column\": \"3_way_label\",\n      \"properties\": {\n        \"dtype\": \"number\",\n        \"std\": 0,\n        \"min\": 0,\n        \"max\": 2,\n        \"num_unique_values\": 3,\n        \"samples\": [\n          0\n        ],\n        \"semantic_type\": \"\",\n        \"description\": \"\"\n      }\n    },\n    {\n      \"column\": \"6_way_label\",\n      \"properties\": {\n        \"dtype\": \"number\",\n        \"std\": 1,\n        \"min\": 0,\n        \"max\": 5,\n        \"num_unique_values\": 6,\n        \"samples\": [\n          0\n        ],\n        \"semantic_type\": \"\",\n        \"description\": \"\"\n      }\n    }\n  ]\n}"
            }
          },
          "metadata": {},
          "execution_count": 25
        }
      ]
    },
    {
      "cell_type": "code",
      "source": [
        "df.drop([\"2_way_label\",\"3_way_label\",\"title\"],axis=1 , inplace=True)"
      ],
      "metadata": {
        "id": "A4YfclmDUcQ4"
      },
      "execution_count": null,
      "outputs": []
    },
    {
      "cell_type": "code",
      "source": [
        "df.head()"
      ],
      "metadata": {
        "colab": {
          "base_uri": "https://localhost:8080/",
          "height": 487
        },
        "id": "06gjh_0sUR08",
        "outputId": "8bf183f7-c1d8-4db7-edba-04e8f91c8ddc"
      },
      "execution_count": null,
      "outputs": [
        {
          "output_type": "execute_result",
          "data": {
            "text/plain": [
              "        author                                        clean_title  \\\n",
              "0       Vranak  president assad expresses appreciation towards...   \n",
              "1  monkeypowah  uk policeman asks for names and addresses of p...   \n",
              "2     Relandis  flypocalypse dad swatted these flies in the ki...   \n",
              "3        dwaxe    life times pixar movies made us cry like babies   \n",
              "4   SowerPlave                                  stay classy tiger   \n",
              "\n",
              "    created_utc           domain  hasImage       id  \\\n",
              "0  1.388330e+09          cnn.com      True   1txzm9   \n",
              "1  1.423516e+09  theguardian.com      True   2vcb92   \n",
              "2  1.564338e+09        i.redd.it      True   ciz7vl   \n",
              "3  1.470069e+09    clickhole.com      True   4vnbj9   \n",
              "4  1.378134e+09                       True  cc084wv   \n",
              "\n",
              "                                           image_url linked_submission_id  \\\n",
              "0  https://external-preview.redd.it/k3pMa3DrphExz...                        \n",
              "1  https://external-preview.redd.it/72WISwugE1C3P...                        \n",
              "2  https://preview.redd.it/v6t5ktde53d31.jpg?widt...                        \n",
              "3  https://external-preview.redd.it/LNyLFwFIi6Knk...                        \n",
              "4                     http://i.imgur.com/IqgTf87.jpg               1lkj8g   \n",
              "\n",
              "  num_comments  score          subreddit upvote_ratio  6_way_label  \n",
              "0          2.0     13      upliftingnews         0.82            0  \n",
              "1          1.0     27        nottheonion         0.88            0  \n",
              "2          3.0      4  mildlyinteresting         0.63            0  \n",
              "3          0.0      5           theonion         0.67            1  \n",
              "4                   6   psbattle_artwork                         4  "
            ],
            "text/html": [
              "\n",
              "  <div id=\"df-c38ab722-d0c0-489e-b7ed-2dfed77f6a49\" class=\"colab-df-container\">\n",
              "    <div>\n",
              "<style scoped>\n",
              "    .dataframe tbody tr th:only-of-type {\n",
              "        vertical-align: middle;\n",
              "    }\n",
              "\n",
              "    .dataframe tbody tr th {\n",
              "        vertical-align: top;\n",
              "    }\n",
              "\n",
              "    .dataframe thead th {\n",
              "        text-align: right;\n",
              "    }\n",
              "</style>\n",
              "<table border=\"1\" class=\"dataframe\">\n",
              "  <thead>\n",
              "    <tr style=\"text-align: right;\">\n",
              "      <th></th>\n",
              "      <th>author</th>\n",
              "      <th>clean_title</th>\n",
              "      <th>created_utc</th>\n",
              "      <th>domain</th>\n",
              "      <th>hasImage</th>\n",
              "      <th>id</th>\n",
              "      <th>image_url</th>\n",
              "      <th>linked_submission_id</th>\n",
              "      <th>num_comments</th>\n",
              "      <th>score</th>\n",
              "      <th>subreddit</th>\n",
              "      <th>upvote_ratio</th>\n",
              "      <th>6_way_label</th>\n",
              "    </tr>\n",
              "  </thead>\n",
              "  <tbody>\n",
              "    <tr>\n",
              "      <th>0</th>\n",
              "      <td>Vranak</td>\n",
              "      <td>president assad expresses appreciation towards...</td>\n",
              "      <td>1.388330e+09</td>\n",
              "      <td>cnn.com</td>\n",
              "      <td>True</td>\n",
              "      <td>1txzm9</td>\n",
              "      <td>https://external-preview.redd.it/k3pMa3DrphExz...</td>\n",
              "      <td></td>\n",
              "      <td>2.0</td>\n",
              "      <td>13</td>\n",
              "      <td>upliftingnews</td>\n",
              "      <td>0.82</td>\n",
              "      <td>0</td>\n",
              "    </tr>\n",
              "    <tr>\n",
              "      <th>1</th>\n",
              "      <td>monkeypowah</td>\n",
              "      <td>uk policeman asks for names and addresses of p...</td>\n",
              "      <td>1.423516e+09</td>\n",
              "      <td>theguardian.com</td>\n",
              "      <td>True</td>\n",
              "      <td>2vcb92</td>\n",
              "      <td>https://external-preview.redd.it/72WISwugE1C3P...</td>\n",
              "      <td></td>\n",
              "      <td>1.0</td>\n",
              "      <td>27</td>\n",
              "      <td>nottheonion</td>\n",
              "      <td>0.88</td>\n",
              "      <td>0</td>\n",
              "    </tr>\n",
              "    <tr>\n",
              "      <th>2</th>\n",
              "      <td>Relandis</td>\n",
              "      <td>flypocalypse dad swatted these flies in the ki...</td>\n",
              "      <td>1.564338e+09</td>\n",
              "      <td>i.redd.it</td>\n",
              "      <td>True</td>\n",
              "      <td>ciz7vl</td>\n",
              "      <td>https://preview.redd.it/v6t5ktde53d31.jpg?widt...</td>\n",
              "      <td></td>\n",
              "      <td>3.0</td>\n",
              "      <td>4</td>\n",
              "      <td>mildlyinteresting</td>\n",
              "      <td>0.63</td>\n",
              "      <td>0</td>\n",
              "    </tr>\n",
              "    <tr>\n",
              "      <th>3</th>\n",
              "      <td>dwaxe</td>\n",
              "      <td>life times pixar movies made us cry like babies</td>\n",
              "      <td>1.470069e+09</td>\n",
              "      <td>clickhole.com</td>\n",
              "      <td>True</td>\n",
              "      <td>4vnbj9</td>\n",
              "      <td>https://external-preview.redd.it/LNyLFwFIi6Knk...</td>\n",
              "      <td></td>\n",
              "      <td>0.0</td>\n",
              "      <td>5</td>\n",
              "      <td>theonion</td>\n",
              "      <td>0.67</td>\n",
              "      <td>1</td>\n",
              "    </tr>\n",
              "    <tr>\n",
              "      <th>4</th>\n",
              "      <td>SowerPlave</td>\n",
              "      <td>stay classy tiger</td>\n",
              "      <td>1.378134e+09</td>\n",
              "      <td></td>\n",
              "      <td>True</td>\n",
              "      <td>cc084wv</td>\n",
              "      <td>http://i.imgur.com/IqgTf87.jpg</td>\n",
              "      <td>1lkj8g</td>\n",
              "      <td></td>\n",
              "      <td>6</td>\n",
              "      <td>psbattle_artwork</td>\n",
              "      <td></td>\n",
              "      <td>4</td>\n",
              "    </tr>\n",
              "  </tbody>\n",
              "</table>\n",
              "</div>\n",
              "    <div class=\"colab-df-buttons\">\n",
              "\n",
              "  <div class=\"colab-df-container\">\n",
              "    <button class=\"colab-df-convert\" onclick=\"convertToInteractive('df-c38ab722-d0c0-489e-b7ed-2dfed77f6a49')\"\n",
              "            title=\"Convert this dataframe to an interactive table.\"\n",
              "            style=\"display:none;\">\n",
              "\n",
              "  <svg xmlns=\"http://www.w3.org/2000/svg\" height=\"24px\" viewBox=\"0 -960 960 960\">\n",
              "    <path d=\"M120-120v-720h720v720H120Zm60-500h600v-160H180v160Zm220 220h160v-160H400v160Zm0 220h160v-160H400v160ZM180-400h160v-160H180v160Zm440 0h160v-160H620v160ZM180-180h160v-160H180v160Zm440 0h160v-160H620v160Z\"/>\n",
              "  </svg>\n",
              "    </button>\n",
              "\n",
              "  <style>\n",
              "    .colab-df-container {\n",
              "      display:flex;\n",
              "      gap: 12px;\n",
              "    }\n",
              "\n",
              "    .colab-df-convert {\n",
              "      background-color: #E8F0FE;\n",
              "      border: none;\n",
              "      border-radius: 50%;\n",
              "      cursor: pointer;\n",
              "      display: none;\n",
              "      fill: #1967D2;\n",
              "      height: 32px;\n",
              "      padding: 0 0 0 0;\n",
              "      width: 32px;\n",
              "    }\n",
              "\n",
              "    .colab-df-convert:hover {\n",
              "      background-color: #E2EBFA;\n",
              "      box-shadow: 0px 1px 2px rgba(60, 64, 67, 0.3), 0px 1px 3px 1px rgba(60, 64, 67, 0.15);\n",
              "      fill: #174EA6;\n",
              "    }\n",
              "\n",
              "    .colab-df-buttons div {\n",
              "      margin-bottom: 4px;\n",
              "    }\n",
              "\n",
              "    [theme=dark] .colab-df-convert {\n",
              "      background-color: #3B4455;\n",
              "      fill: #D2E3FC;\n",
              "    }\n",
              "\n",
              "    [theme=dark] .colab-df-convert:hover {\n",
              "      background-color: #434B5C;\n",
              "      box-shadow: 0px 1px 3px 1px rgba(0, 0, 0, 0.15);\n",
              "      filter: drop-shadow(0px 1px 2px rgba(0, 0, 0, 0.3));\n",
              "      fill: #FFFFFF;\n",
              "    }\n",
              "  </style>\n",
              "\n",
              "    <script>\n",
              "      const buttonEl =\n",
              "        document.querySelector('#df-c38ab722-d0c0-489e-b7ed-2dfed77f6a49 button.colab-df-convert');\n",
              "      buttonEl.style.display =\n",
              "        google.colab.kernel.accessAllowed ? 'block' : 'none';\n",
              "\n",
              "      async function convertToInteractive(key) {\n",
              "        const element = document.querySelector('#df-c38ab722-d0c0-489e-b7ed-2dfed77f6a49');\n",
              "        const dataTable =\n",
              "          await google.colab.kernel.invokeFunction('convertToInteractive',\n",
              "                                                    [key], {});\n",
              "        if (!dataTable) return;\n",
              "\n",
              "        const docLinkHtml = 'Like what you see? Visit the ' +\n",
              "          '<a target=\"_blank\" href=https://colab.research.google.com/notebooks/data_table.ipynb>data table notebook</a>'\n",
              "          + ' to learn more about interactive tables.';\n",
              "        element.innerHTML = '';\n",
              "        dataTable['output_type'] = 'display_data';\n",
              "        await google.colab.output.renderOutput(dataTable, element);\n",
              "        const docLink = document.createElement('div');\n",
              "        docLink.innerHTML = docLinkHtml;\n",
              "        element.appendChild(docLink);\n",
              "      }\n",
              "    </script>\n",
              "  </div>\n",
              "\n",
              "\n",
              "<div id=\"df-a8278fa2-d4ac-4a49-99ba-f303acc4994e\">\n",
              "  <button class=\"colab-df-quickchart\" onclick=\"quickchart('df-a8278fa2-d4ac-4a49-99ba-f303acc4994e')\"\n",
              "            title=\"Suggest charts\"\n",
              "            style=\"display:none;\">\n",
              "\n",
              "<svg xmlns=\"http://www.w3.org/2000/svg\" height=\"24px\"viewBox=\"0 0 24 24\"\n",
              "     width=\"24px\">\n",
              "    <g>\n",
              "        <path d=\"M19 3H5c-1.1 0-2 .9-2 2v14c0 1.1.9 2 2 2h14c1.1 0 2-.9 2-2V5c0-1.1-.9-2-2-2zM9 17H7v-7h2v7zm4 0h-2V7h2v10zm4 0h-2v-4h2v4z\"/>\n",
              "    </g>\n",
              "</svg>\n",
              "  </button>\n",
              "\n",
              "<style>\n",
              "  .colab-df-quickchart {\n",
              "      --bg-color: #E8F0FE;\n",
              "      --fill-color: #1967D2;\n",
              "      --hover-bg-color: #E2EBFA;\n",
              "      --hover-fill-color: #174EA6;\n",
              "      --disabled-fill-color: #AAA;\n",
              "      --disabled-bg-color: #DDD;\n",
              "  }\n",
              "\n",
              "  [theme=dark] .colab-df-quickchart {\n",
              "      --bg-color: #3B4455;\n",
              "      --fill-color: #D2E3FC;\n",
              "      --hover-bg-color: #434B5C;\n",
              "      --hover-fill-color: #FFFFFF;\n",
              "      --disabled-bg-color: #3B4455;\n",
              "      --disabled-fill-color: #666;\n",
              "  }\n",
              "\n",
              "  .colab-df-quickchart {\n",
              "    background-color: var(--bg-color);\n",
              "    border: none;\n",
              "    border-radius: 50%;\n",
              "    cursor: pointer;\n",
              "    display: none;\n",
              "    fill: var(--fill-color);\n",
              "    height: 32px;\n",
              "    padding: 0;\n",
              "    width: 32px;\n",
              "  }\n",
              "\n",
              "  .colab-df-quickchart:hover {\n",
              "    background-color: var(--hover-bg-color);\n",
              "    box-shadow: 0 1px 2px rgba(60, 64, 67, 0.3), 0 1px 3px 1px rgba(60, 64, 67, 0.15);\n",
              "    fill: var(--button-hover-fill-color);\n",
              "  }\n",
              "\n",
              "  .colab-df-quickchart-complete:disabled,\n",
              "  .colab-df-quickchart-complete:disabled:hover {\n",
              "    background-color: var(--disabled-bg-color);\n",
              "    fill: var(--disabled-fill-color);\n",
              "    box-shadow: none;\n",
              "  }\n",
              "\n",
              "  .colab-df-spinner {\n",
              "    border: 2px solid var(--fill-color);\n",
              "    border-color: transparent;\n",
              "    border-bottom-color: var(--fill-color);\n",
              "    animation:\n",
              "      spin 1s steps(1) infinite;\n",
              "  }\n",
              "\n",
              "  @keyframes spin {\n",
              "    0% {\n",
              "      border-color: transparent;\n",
              "      border-bottom-color: var(--fill-color);\n",
              "      border-left-color: var(--fill-color);\n",
              "    }\n",
              "    20% {\n",
              "      border-color: transparent;\n",
              "      border-left-color: var(--fill-color);\n",
              "      border-top-color: var(--fill-color);\n",
              "    }\n",
              "    30% {\n",
              "      border-color: transparent;\n",
              "      border-left-color: var(--fill-color);\n",
              "      border-top-color: var(--fill-color);\n",
              "      border-right-color: var(--fill-color);\n",
              "    }\n",
              "    40% {\n",
              "      border-color: transparent;\n",
              "      border-right-color: var(--fill-color);\n",
              "      border-top-color: var(--fill-color);\n",
              "    }\n",
              "    60% {\n",
              "      border-color: transparent;\n",
              "      border-right-color: var(--fill-color);\n",
              "    }\n",
              "    80% {\n",
              "      border-color: transparent;\n",
              "      border-right-color: var(--fill-color);\n",
              "      border-bottom-color: var(--fill-color);\n",
              "    }\n",
              "    90% {\n",
              "      border-color: transparent;\n",
              "      border-bottom-color: var(--fill-color);\n",
              "    }\n",
              "  }\n",
              "</style>\n",
              "\n",
              "  <script>\n",
              "    async function quickchart(key) {\n",
              "      const quickchartButtonEl =\n",
              "        document.querySelector('#' + key + ' button');\n",
              "      quickchartButtonEl.disabled = true;  // To prevent multiple clicks.\n",
              "      quickchartButtonEl.classList.add('colab-df-spinner');\n",
              "      try {\n",
              "        const charts = await google.colab.kernel.invokeFunction(\n",
              "            'suggestCharts', [key], {});\n",
              "      } catch (error) {\n",
              "        console.error('Error during call to suggestCharts:', error);\n",
              "      }\n",
              "      quickchartButtonEl.classList.remove('colab-df-spinner');\n",
              "      quickchartButtonEl.classList.add('colab-df-quickchart-complete');\n",
              "    }\n",
              "    (() => {\n",
              "      let quickchartButtonEl =\n",
              "        document.querySelector('#df-a8278fa2-d4ac-4a49-99ba-f303acc4994e button');\n",
              "      quickchartButtonEl.style.display =\n",
              "        google.colab.kernel.accessAllowed ? 'block' : 'none';\n",
              "    })();\n",
              "  </script>\n",
              "</div>\n",
              "\n",
              "    </div>\n",
              "  </div>\n"
            ],
            "application/vnd.google.colaboratory.intrinsic+json": {
              "type": "dataframe",
              "variable_name": "df",
              "summary": "{\n  \"name\": \"df\",\n  \"rows\": 16920,\n  \"fields\": [\n    {\n      \"column\": \"author\",\n      \"properties\": {\n        \"dtype\": \"string\",\n        \"num_unique_values\": 12519,\n        \"samples\": [\n          \"kaydas93\",\n          \"howsthat_\",\n          \"PandaKing185\"\n        ],\n        \"semantic_type\": \"\",\n        \"description\": \"\"\n      }\n    },\n    {\n      \"column\": \"clean_title\",\n      \"properties\": {\n        \"dtype\": \"string\",\n        \"num_unique_values\": 16144,\n        \"samples\": [\n          \"american pow gets tortured by his japanese capturers\",\n          \"a skeptical one\",\n          \"parents own a cottage in the town ed sheeran is from this was in a cafe\"\n        ],\n        \"semantic_type\": \"\",\n        \"description\": \"\"\n      }\n    },\n    {\n      \"column\": \"created_utc\",\n      \"properties\": {\n        \"dtype\": \"number\",\n        \"std\": 69665883.53734967,\n        \"min\": 1223699902.0,\n        \"max\": 1571806436.0,\n        \"num_unique_values\": 16919,\n        \"samples\": [\n          1566028706.0,\n          1457467059.0,\n          1520818531.0\n        ],\n        \"semantic_type\": \"\",\n        \"description\": \"\"\n      }\n    },\n    {\n      \"column\": \"domain\",\n      \"properties\": {\n        \"dtype\": \"category\",\n        \"num_unique_values\": 1168,\n        \"samples\": [\n          \"copblock.org\",\n          \"media.npr.org\",\n          \"timesofindia.indiatimes.com\"\n        ],\n        \"semantic_type\": \"\",\n        \"description\": \"\"\n      }\n    },\n    {\n      \"column\": \"hasImage\",\n      \"properties\": {\n        \"dtype\": \"boolean\",\n        \"num_unique_values\": 1,\n        \"samples\": [\n          true\n        ],\n        \"semantic_type\": \"\",\n        \"description\": \"\"\n      }\n    },\n    {\n      \"column\": \"id\",\n      \"properties\": {\n        \"dtype\": \"string\",\n        \"num_unique_values\": 16920,\n        \"samples\": [\n          \"elfsxj7\"\n        ],\n        \"semantic_type\": \"\",\n        \"description\": \"\"\n      }\n    },\n    {\n      \"column\": \"image_url\",\n      \"properties\": {\n        \"dtype\": \"string\",\n        \"num_unique_values\": 16679,\n        \"samples\": [\n          \"http://i.imgur.com/RgMiR.jpg\"\n        ],\n        \"semantic_type\": \"\",\n        \"description\": \"\"\n      }\n    },\n    {\n      \"column\": \"linked_submission_id\",\n      \"properties\": {\n        \"dtype\": \"category\",\n        \"num_unique_values\": 4447,\n        \"samples\": [\n          \"1xebyn\"\n        ],\n        \"semantic_type\": \"\",\n        \"description\": \"\"\n      }\n    },\n    {\n      \"column\": \"num_comments\",\n      \"properties\": {\n        \"dtype\": \"date\",\n        \"min\": \"1970-01-01 00:00:00\",\n        \"max\": \"1970-01-01 00:00:00.000007213\",\n        \"num_unique_values\": 366,\n        \"samples\": [\n          203.0\n        ],\n        \"semantic_type\": \"\",\n        \"description\": \"\"\n      }\n    },\n    {\n      \"column\": \"score\",\n      \"properties\": {\n        \"dtype\": \"number\",\n        \"std\": 2928,\n        \"min\": -131,\n        \"max\": 74977,\n        \"num_unique_values\": 1352,\n        \"samples\": [\n          127\n        ],\n        \"semantic_type\": \"\",\n        \"description\": \"\"\n      }\n    },\n    {\n      \"column\": \"subreddit\",\n      \"properties\": {\n        \"dtype\": \"category\",\n        \"num_unique_values\": 21,\n        \"samples\": [\n          \"upliftingnews\"\n        ],\n        \"semantic_type\": \"\",\n        \"description\": \"\"\n      }\n    },\n    {\n      \"column\": \"upvote_ratio\",\n      \"properties\": {\n        \"dtype\": \"date\",\n        \"min\": \"1970-01-01 00:00:00\",\n        \"max\": \"1970-01-01 00:00:00.000000001\",\n        \"num_unique_values\": 51,\n        \"samples\": [\n          0.56\n        ],\n        \"semantic_type\": \"\",\n        \"description\": \"\"\n      }\n    },\n    {\n      \"column\": \"6_way_label\",\n      \"properties\": {\n        \"dtype\": \"number\",\n        \"std\": 1,\n        \"min\": 0,\n        \"max\": 5,\n        \"num_unique_values\": 6,\n        \"samples\": [\n          0\n        ],\n        \"semantic_type\": \"\",\n        \"description\": \"\"\n      }\n    }\n  ]\n}"
            }
          },
          "metadata": {},
          "execution_count": 27
        }
      ]
    },
    {
      "cell_type": "code",
      "source": [
        "df = df[df[\"hasImage\"] == True].copy()\n",
        "df = df[df[\"image_url\"].notna()].copy()"
      ],
      "metadata": {
        "id": "tWV2sbwXUn0A"
      },
      "execution_count": null,
      "outputs": []
    },
    {
      "cell_type": "code",
      "source": [
        "from torchvision import transforms\n",
        "from io import BytesIO\n",
        "import requests\n",
        "from tqdm.notebook import tqdm\n"
      ],
      "metadata": {
        "id": "Ti1U423PU8K9"
      },
      "execution_count": null,
      "outputs": []
    },
    {
      "cell_type": "code",
      "source": [
        "image_transforms = transforms.Compose([\n",
        "    transforms.Resize((256, 256)),\n",
        "    transforms.CenterCrop(224),\n",
        "    transforms.ToTensor(),\n",
        "    transforms.Normalize(mean=[0.485, 0.456, 0.406],  # Normalize using ImageNet stats\n",
        "                         std=[0.229, 0.224, 0.225])\n",
        "])"
      ],
      "metadata": {
        "id": "9oAhZJ3FUy9p"
      },
      "execution_count": null,
      "outputs": []
    },
    {
      "cell_type": "code",
      "source": [
        "def load_and_preprocess_image(image_url):\n",
        "    try:\n",
        "        # Download the image\n",
        "        response = requests.get(image_url, timeout=10)\n",
        "        response.raise_for_status()  # raise an exception for HTTP errors\n",
        "        # Open and convert the image to RGB\n",
        "        img = Image.open(BytesIO(response.content)).convert('RGB')\n",
        "        # Apply the transformation pipeline\n",
        "        img_tensor = image_transforms(img)\n",
        "        return img_tensor\n",
        "    except Exception as e:\n",
        "        print(f\"Error processing image from {image_url}: {e}\")\n",
        "        return None"
      ],
      "metadata": {
        "id": "dehEyvegM_Fo"
      },
      "execution_count": null,
      "outputs": []
    },
    {
      "cell_type": "code",
      "source": [
        "'''tqdm.pandas(desc=\"Processing images\")\n",
        "df['processed_image'] = df['image_url'].progress_apply(load_and_preprocess_image)\n"
      ],
      "metadata": {
        "colab": {
          "base_uri": "https://localhost:8080/",
          "height": 106
        },
        "id": "1d-zM1pQJA3F",
        "outputId": "99444c09-142e-4c36-9723-85791d119572"
      },
      "execution_count": null,
      "outputs": [
        {
          "output_type": "error",
          "ename": "SyntaxError",
          "evalue": "incomplete input (<ipython-input-32-a478b03bbedb>, line 1)",
          "traceback": [
            "\u001b[0;36m  File \u001b[0;32m\"<ipython-input-32-a478b03bbedb>\"\u001b[0;36m, line \u001b[0;32m1\u001b[0m\n\u001b[0;31m    '''tqdm.pandas(desc=\"Processing images\")\u001b[0m\n\u001b[0m    ^\u001b[0m\n\u001b[0;31mSyntaxError\u001b[0m\u001b[0;31m:\u001b[0m incomplete input\n"
          ]
        }
      ]
    },
    {
      "cell_type": "code",
      "source": [
        "'''!zip -r images.zip /content/Images"
      ],
      "metadata": {
        "id": "A9pnAwn2So9K"
      },
      "execution_count": null,
      "outputs": []
    },
    {
      "cell_type": "code",
      "source": [
        "'''from google.colab import files\n",
        "files.download(\"images.zip\")"
      ],
      "metadata": {
        "id": "QkZ7p4LYSrCr"
      },
      "execution_count": null,
      "outputs": []
    },
    {
      "cell_type": "code",
      "source": [
        "\n",
        "import torch\n",
        "\n",
        "df.to_pickle(\"processed_df.pkl\")\n"
      ],
      "metadata": {
        "id": "pPxSpoe3Rq2F"
      },
      "execution_count": null,
      "outputs": []
    },
    {
      "cell_type": "code",
      "source": [
        "print(\"Total rows with images:\", len(df))\n",
        "print(\"Number of successfully processed images:\", df['processed_image'].notna().sum())"
      ],
      "metadata": {
        "id": "HiE_-9atJJZb"
      },
      "execution_count": null,
      "outputs": []
    },
    {
      "cell_type": "code",
      "source": [
        "\"\"\"\n",
        "_def download_image(row):\n",
        "    image_url = row[\"image_url\"]\n",
        "    image_path = os.path.join(image_dir, f\"{row['id']}.jpg\")  # Save with ID as filename\n",
        "\n",
        "    try:\n",
        "        with request.urlopen(image_url) as response:\n",
        "            with open(image_path, \"wb\") as f:\n",
        "                f.write(response.read())\n",
        "        return image_path  # Successfully downloaded\n",
        "    except Exception as e:\n",
        "        print(f\"Failed to download {image_url}: {e}\")\n",
        "        return False  # Return False on failure\n",
        "\n",
        "def process_row(index, row):\n",
        "    if row[\"hasImage\"] and isinstance(row[\"image_url\"], str) and row[\"image_url\"].strip():\n",
        "        success = download_image(row)\n",
        "        if not success:\n",
        "            return index\n",
        "    return None\n",
        "\n",
        "failed_indices = []\n",
        "with ThreadPoolExecutor(max_workers=10) as executor:\n",
        "    futures = {executor.submit(process_row, index, row): index for index, row in df.iterrows()}\n",
        "\n",
        "    for future in as_completed(futures):\n",
        "        index = futures[future]\n",
        "        try:\n",
        "            failed_index = future.result()\n",
        "            if failed_index is not None:\n",
        "                failed_indices.append(failed_index)\n",
        "        except Exception as exc:\n",
        "            print(f\"An error occurred for row {index}: {exc}\")\n",
        "\n",
        "# Remove failed downloads from DataFrame\n",
        "df.drop(index=failed_indices, inplace=True)\n",
        "df.reset_index(drop=True, inplace=True)\n",
        "\n",
        "print(\"Downloaded all images successfully.\")"
      ],
      "metadata": {
        "id": "EKbzvmD9Jg-c"
      },
      "execution_count": null,
      "outputs": []
    },
    {
      "cell_type": "code",
      "source": [
        "'''!zip -r images.zip . -i /content/Images"
      ],
      "metadata": {
        "id": "BN70IHpa_sWJ"
      },
      "execution_count": null,
      "outputs": []
    },
    {
      "cell_type": "code",
      "source": [],
      "metadata": {
        "id": "cIsQmR_5FFK5"
      },
      "execution_count": null,
      "outputs": []
    },
    {
      "cell_type": "code",
      "source": [
        "from google.colab import files\n",
        "files.download(\"/content/Images\")"
      ],
      "metadata": {
        "id": "6vX05MwH_smR"
      },
      "execution_count": null,
      "outputs": []
    },
    {
      "cell_type": "code",
      "source": [
        "df.head()"
      ],
      "metadata": {
        "id": "fCdy095SSDyS"
      },
      "execution_count": null,
      "outputs": []
    }
  ]
}